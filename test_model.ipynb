{
 "cells": [
  {
   "cell_type": "code",
   "execution_count": 1,
   "metadata": {},
   "outputs": [],
   "source": [
    "import warnings\n",
    "warnings.filterwarnings('ignore')"
   ]
  },
  {
   "cell_type": "code",
   "execution_count": 18,
   "metadata": {},
   "outputs": [],
   "source": [
    "# Set sample\n",
    "import numpy as np\n",
    "import pandas as pd\n",
    "\n",
    "image = [\"00006_00.jpg\"]\n",
    "clothes = [\"001.jpg\"]\n",
    "df = pd.DataFrame({\"image\": image, \"clothes\": clothes})\n",
    "df.to_csv(\"./data/pairs.txt\", index=False, header=False, sep=\" \")"
   ]
  },
  {
   "cell_type": "code",
   "execution_count": 19,
   "metadata": {},
   "outputs": [
    {
     "name": "stderr",
     "output_type": "stream",
     "text": [
      "c:\\Users\\BILAL EL MANJA\\miniconda3\\envs\\TryOn\\lib\\site-packages\\torch\\nn\\functional.py:4296: UserWarning: Default grid_sample and affine_grid behavior has changed to align_corners=False since 1.3.0. Please specify align_corners=True if the old behavior is desired. See the documentation of grid_sample for details.\n",
      "  warnings.warn(\n"
     ]
    },
    {
     "name": "stdout",
     "output_type": "stream",
     "text": [
      "Namespace(gpu_ids='', workers=4, batch_size=1, fp16=False, cuda='False', test_name='test', dataroot='../data/', datamode='test', data_list='pairs.txt', output_dir='../output/', datasetting='unpaired', fine_width=768, fine_height=1024, tensorboard_dir='./data/zalando-hd-resize/tensorboard', checkpoint_dir='checkpoints', tocg_checkpoint='./eval_models/weights/v0.1/mtviton.pth', gen_checkpoint='./eval_models/weights/v0.1/gen.pth', tensorboard_count=100, shuffle=False, semantic_nc=13, output_nc=13, gen_semantic_nc=7, warp_feature='T1', out_layer='relu', clothmask_composition='warp_grad', upsample='bilinear', occlusion=True, norm_G='spectralaliasinstance', ngf=64, init_type='xavier', init_variance=0.02, num_upsampling_layers='most')\n",
      "Start to test %s!\n",
      "Network [SPADEGenerator] was created. Total number of parameters: 100.5 million. To see the architecture, do print(network).\n",
      "1\n",
      "Test time 605.2175838947296\n",
      "Finished testing!\n"
     ]
    }
   ],
   "source": [
    "# Generate image\n",
    "# changed networks.py file line 425 from cuda to cpu\n",
    "# changed test_generator.py file line 86 from cuda to cpu\n",
    "# changed test_generator.py file line 97 from cuda to cpu\n",
    "# changed test_generator.py file line 119-128 from cuda to cpu\n",
    "# changed test_generator.py file line 128 & 139 from float to float32\n",
    "# changed networks.py file line 165 from cuda to cpu\n",
    "!cd ./HR-VITON && python test_generator.py --occlusion --cuda {False}  --dataroot ../data/ --data_list pairs.txt --output_dir ../output/"
   ]
  },
  {
   "cell_type": "code",
   "execution_count": null,
   "metadata": {},
   "outputs": [],
   "source": []
  }
 ],
 "metadata": {
  "kernelspec": {
   "display_name": "TryOn",
   "language": "python",
   "name": "python3"
  },
  "language_info": {
   "codemirror_mode": {
    "name": "ipython",
    "version": 3
   },
   "file_extension": ".py",
   "mimetype": "text/x-python",
   "name": "python",
   "nbconvert_exporter": "python",
   "pygments_lexer": "ipython3",
   "version": "3.10.13"
  }
 },
 "nbformat": 4,
 "nbformat_minor": 2
}
